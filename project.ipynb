{
 "cells": [
  {
   "cell_type": "code",
   "execution_count": null,
   "metadata": {},
   "outputs": [],
   "source": [
    "%matplotlib inline\n",
    "import thinkdsp\n",
    "import matplotlib.pyplot as plt\n",
    "import numpy as np\n",
    "from IPython.display import Audio\n",
    "\n",
    "def extract_peaks(spectrum, threshold):\n",
    "    peaks = []\n",
    "    for freq, amp in zip(spectrum.fs, spectrum.amps):\n",
    "        if amp >= threshold:\n",
    "            peaks.append((freq, amp))\n",
    "    return peaks\n",
    "def combine_peaks(peaks, duration, framerate):\n",
    "    t = np.linspace(0, duration, int(duration * framerate))\n",
    "    ys = np.zeros_like(t)\n",
    "    for freq, amp in peaks:\n",
    "        ys += amp* np.sin(2 * np.pi * freq * t)\n",
    "    return thinkdsp.Wave(ys, framerate=framerate)\n",
    "\n",
    "car = thinkdsp.read_wave(\"car.wav\")\n",
    "car.normalize()\n",
    "\n",
    "# Segment wave file\n",
    "segment = car.segment(start=0.15, duration=0.1)\n",
    "segment.plot()\n",
    "plt.show()\n",
    "\n",
    "# Create original spectrum\n",
    "spectrum_orig = segment.make_spectrum()\n",
    "spectrum_orig.plot(high=3000)\n",
    "plt.title('Original Spectrum')\n",
    "plt.show()\n",
    "display(Audio(segment.ys, rate=segment.framerate))\n",
    "def filter_wave(file_path, high, start, duration, threshold):\n",
    "    wave = thinkdsp.read_wave(file_path)\n",
    "    wave.normalize()\n",
    "    segment = wave.segment(start=start, duration=duration)\n",
    "    # Extract peaks\n",
    "    peaks = extract_peaks(spectrum_orig, threshold)\n",
    "    # Combine peaks to create a new wave\n",
    "    combined_wave = combine_peaks(peaks, duration, segment.framerate)\n",
    "    # combined_wave.scale(6000000)\n",
    "    combined_wave.normalize()\n",
    "    combined_wave.plot()\n",
    "    plt.show()\n",
    "    combined_wave.make_spectrum().plot(high=high)\n",
    "    plt.show()\n",
    "    # write the wave to a file, use the threshold as the file name\n",
    "    combined_wave.write(filename=str(threshold) + '.wav')\n",
    "    display(Audio(combined_wave.ys, rate=segment.framerate))\n",
    "\n",
    "for i in range(100, -20, -20):\n",
    " filter_wave('car.wav', 3000,0.15,0.1,i)\n",
    "# filter_wave('car.wav', 3000,0.15,0.1,0)"
   ]
  }
 ],
 "metadata": {
  "kernelspec": {
   "display_name": "base",
   "language": "python",
   "name": "python3"
  },
  "language_info": {
   "codemirror_mode": {
    "name": "ipython",
    "version": 3
   },
   "file_extension": ".py",
   "mimetype": "text/x-python",
   "name": "python",
   "nbconvert_exporter": "python",
   "pygments_lexer": "ipython3",
   "version": "3.9.13"
  },
  "orig_nbformat": 4
 },
 "nbformat": 4,
 "nbformat_minor": 2
}
